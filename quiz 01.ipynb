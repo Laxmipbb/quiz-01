{
 "cells": [
  {
   "cell_type": "code",
   "execution_count": 5,
   "id": "1b1e5f9d-98cd-42e7-994b-b1d962149bfe",
   "metadata": {},
   "outputs": [
    {
     "ename": "ZeroDivisionError",
     "evalue": "integer division or modulo by zero",
     "output_type": "error",
     "traceback": [
      "\u001b[0;31m---------------------------------------------------------------------------\u001b[0m",
      "\u001b[0;31mZeroDivisionError\u001b[0m                         Traceback (most recent call last)",
      "Cell \u001b[0;32mIn[5], line 1\u001b[0m\n\u001b[0;32m----> 1\u001b[0m \u001b[38;5;241;43m1\u001b[39;49m\u001b[38;5;241;43m%\u001b[39;49m\u001b[38;5;241;43m0\u001b[39;49m\n",
      "\u001b[0;31mZeroDivisionError\u001b[0m: integer division or modulo by zero"
     ]
    }
   ],
   "source": [
    "1%0"
   ]
  },
  {
   "cell_type": "code",
   "execution_count": 6,
   "id": "64dda4b3-7ae4-4eab-9adb-69aa10c9de85",
   "metadata": {},
   "outputs": [
    {
     "data": {
      "text/plain": [
       "(-1+3j)"
      ]
     },
     "execution_count": 6,
     "metadata": {},
     "output_type": "execute_result"
    }
   ],
   "source": [
    "num1=23\n",
    "num2=44\n",
    "num2=2+3j\n",
    "num1=num2.imag\n",
    "num2-num1"
   ]
  },
  {
   "cell_type": "code",
   "execution_count": 7,
   "id": "a7041fe0-9919-4353-8817-3080808c3a2d",
   "metadata": {},
   "outputs": [
    {
     "data": {
      "text/plain": [
       "'Pwskills1'"
      ]
     },
     "execution_count": 7,
     "metadata": {},
     "output_type": "execute_result"
    }
   ],
   "source": [
    "'Pwskills'+str(1)"
   ]
  },
  {
   "cell_type": "code",
   "execution_count": 12,
   "id": "e4e5b1e6-5689-4255-bdfd-09503edbed00",
   "metadata": {},
   "outputs": [
    {
     "data": {
      "text/plain": [
       "'20%_num'"
      ]
     },
     "execution_count": 12,
     "metadata": {},
     "output_type": "execute_result"
    }
   ],
   "source": [
    "\"20%_num\""
   ]
  },
  {
   "cell_type": "code",
   "execution_count": 14,
   "id": "31f1ed02-db50-4dbc-9cbe-f6ecd091a776",
   "metadata": {},
   "outputs": [
    {
     "data": {
      "text/plain": [
       "'Num_100'"
      ]
     },
     "execution_count": 14,
     "metadata": {},
     "output_type": "execute_result"
    }
   ],
   "source": [
    "\"Num_100\""
   ]
  },
  {
   "cell_type": "code",
   "execution_count": 15,
   "id": "ef57c42b-98f7-45a3-8557-aeecc05e2709",
   "metadata": {},
   "outputs": [
    {
     "data": {
      "text/plain": [
       "'Pw-skills'"
      ]
     },
     "execution_count": 15,
     "metadata": {},
     "output_type": "execute_result"
    }
   ],
   "source": [
    "\"Pw-skills\""
   ]
  },
  {
   "cell_type": "code",
   "execution_count": 16,
   "id": "a46e268b-7988-40e6-ac06-42ae56e8d2f1",
   "metadata": {},
   "outputs": [
    {
     "data": {
      "text/plain": [
       "'_pw_skills'"
      ]
     },
     "execution_count": 16,
     "metadata": {},
     "output_type": "execute_result"
    }
   ],
   "source": [
    "\"_pw_skills\""
   ]
  },
  {
   "cell_type": "code",
   "execution_count": 20,
   "id": "2056c6d9-096e-47d0-b435-a7deb7470a89",
   "metadata": {},
   "outputs": [
    {
     "data": {
      "text/plain": [
       "str"
      ]
     },
     "execution_count": 20,
     "metadata": {},
     "output_type": "execute_result"
    }
   ],
   "source": [
    "type(\"A string enclosed in single triple quotes\")"
   ]
  },
  {
   "cell_type": "code",
   "execution_count": 23,
   "id": "36c564f7-9b50-41ed-bd34-d4f86a68bc0f",
   "metadata": {},
   "outputs": [
    {
     "data": {
      "text/plain": [
       "str"
      ]
     },
     "execution_count": 23,
     "metadata": {},
     "output_type": "execute_result"
    }
   ],
   "source": [
    "type(\"A string enclosed in double triple quotes\")"
   ]
  },
  {
   "cell_type": "code",
   "execution_count": 24,
   "id": "aaa2acba-4dc3-4013-bb37-08469117d445",
   "metadata": {},
   "outputs": [
    {
     "ename": "TypeError",
     "evalue": "'str' object does not support item assignment",
     "output_type": "error",
     "traceback": [
      "\u001b[0;31m---------------------------------------------------------------------------\u001b[0m",
      "\u001b[0;31mTypeError\u001b[0m                                 Traceback (most recent call last)",
      "Cell \u001b[0;32mIn[24], line 2\u001b[0m\n\u001b[1;32m      1\u001b[0m Name \u001b[38;5;241m=\u001b[39m \u001b[38;5;124m'\u001b[39m\u001b[38;5;124mpwskills\u001b[39m\u001b[38;5;124m'\u001b[39m\n\u001b[0;32m----> 2\u001b[0m \u001b[43mName\u001b[49m\u001b[43m[\u001b[49m\u001b[38;5;241;43m0\u001b[39;49m\u001b[43m]\u001b[49m \u001b[38;5;241m=\u001b[39m \u001b[38;5;124m'\u001b[39m\u001b[38;5;124mp\u001b[39m\u001b[38;5;124m'\u001b[39m\n",
      "\u001b[0;31mTypeError\u001b[0m: 'str' object does not support item assignment"
     ]
    }
   ],
   "source": [
    "Name = 'pwskills'\n",
    "Name[0] = 'p'"
   ]
  },
  {
   "cell_type": "code",
   "execution_count": 25,
   "id": "c886a820-f6a4-4003-8e51-edc7d3ba77eb",
   "metadata": {},
   "outputs": [
    {
     "data": {
      "text/plain": [
       "True"
      ]
     },
     "execution_count": 25,
     "metadata": {},
     "output_type": "execute_result"
    }
   ],
   "source": [
    "'pwskills'.upper().lower().isalnum()"
   ]
  },
  {
   "cell_type": "code",
   "execution_count": null,
   "id": "ad9bb715-f00d-4641-8fa3-2c38330fd377",
   "metadata": {},
   "outputs": [],
   "source": []
  }
 ],
 "metadata": {
  "kernelspec": {
   "display_name": "Python 3 (ipykernel)",
   "language": "python",
   "name": "python3"
  },
  "language_info": {
   "codemirror_mode": {
    "name": "ipython",
    "version": 3
   },
   "file_extension": ".py",
   "mimetype": "text/x-python",
   "name": "python",
   "nbconvert_exporter": "python",
   "pygments_lexer": "ipython3",
   "version": "3.10.8"
  }
 },
 "nbformat": 4,
 "nbformat_minor": 5
}
